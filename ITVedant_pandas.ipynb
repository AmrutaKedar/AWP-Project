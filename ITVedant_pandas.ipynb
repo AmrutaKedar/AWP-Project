{
 "cells": [
  {
   "cell_type": "code",
   "execution_count": 1,
   "metadata": {},
   "outputs": [],
   "source": [
    "import numpy as np\n",
    "import pandas as pd"
   ]
  },
  {
   "cell_type": "code",
   "execution_count": 3,
   "metadata": {},
   "outputs": [
    {
     "name": "stdout",
     "output_type": "stream",
     "text": [
      "[10 20 30 40 50]\n",
      "0    10\n",
      "1    20\n",
      "2    30\n",
      "3    40\n",
      "4    50\n",
      "dtype: int64\n"
     ]
    }
   ],
   "source": [
    "a=[10,20,30,40,50]\n",
    "n=np.array(a)\n",
    "print(n)\n",
    "s=pd.Series(a)\n",
    "print(s)"
   ]
  },
  {
   "cell_type": "code",
   "execution_count": 5,
   "metadata": {},
   "outputs": [
    {
     "name": "stdout",
     "output_type": "stream",
     "text": [
      "i      10\n",
      "ii     20\n",
      "iii    30\n",
      "iv     40\n",
      "v      50\n",
      "dtype: int64\n"
     ]
    }
   ],
   "source": [
    "b=pd.Series(a,index=('i','ii','iii','iv','v'))\n",
    "print(b)"
   ]
  },
  {
   "cell_type": "code",
   "execution_count": 6,
   "metadata": {},
   "outputs": [
    {
     "name": "stdout",
     "output_type": "stream",
     "text": [
      "1     sunday\n",
      "2     monday\n",
      "3    tuesday\n",
      "dtype: object\n"
     ]
    }
   ],
   "source": [
    "d={1:\"sunday\",2:\"monday\",3:\"tuesday\"}\n",
    "s1=pd.Series(d)\n",
    "print(s1)"
   ]
  },
  {
   "cell_type": "code",
   "execution_count": 7,
   "metadata": {},
   "outputs": [
    {
     "name": "stdout",
     "output_type": "stream",
     "text": [
      "<class 'pandas.core.series.Series'>\n"
     ]
    }
   ],
   "source": [
    "print(type(s1))"
   ]
  },
  {
   "cell_type": "code",
   "execution_count": 8,
   "metadata": {},
   "outputs": [
    {
     "name": "stdout",
     "output_type": "stream",
     "text": [
      "Pandas Series and type\n",
      "0     2\n",
      "1     4\n",
      "2     6\n",
      "3     8\n",
      "4    10\n",
      "dtype: int64\n",
      "<class 'pandas.core.series.Series'>\n",
      "Convert Pandas Series to Python list\n",
      "[2, 4, 6, 8, 10]\n",
      "<class 'list'>\n"
     ]
    }
   ],
   "source": [
    "#series to list\n",
    "ds = pd.Series([2, 4, 6, 8, 10])\n",
    "print(\"Pandas Series and type\")\n",
    "print(ds)\n",
    "print(type(ds))\n",
    "print(\"Convert Pandas Series to Python list\")\n",
    "print(ds.tolist())#tolist() converts series to list\n",
    "print(type(ds.tolist()))"
   ]
  },
  {
   "cell_type": "code",
   "execution_count": 9,
   "metadata": {},
   "outputs": [
    {
     "name": "stdout",
     "output_type": "stream",
     "text": [
      "Add two Series:\n",
      "0     3\n",
      "1     7\n",
      "2    11\n",
      "3    15\n",
      "4    19\n",
      "dtype: int64\n",
      "Subtract two Series:\n",
      "0    1\n",
      "1    1\n",
      "2    1\n",
      "3    1\n",
      "4    1\n",
      "dtype: int64\n",
      "Multiply two Series:\n",
      "0     2\n",
      "1    12\n",
      "2    30\n",
      "3    56\n",
      "4    90\n",
      "dtype: int64\n",
      "Divide Series1 by Series2:\n",
      "0    2.000000\n",
      "1    1.333333\n",
      "2    1.200000\n",
      "3    1.142857\n",
      "4    1.111111\n",
      "dtype: float64\n"
     ]
    }
   ],
   "source": [
    "#arithmetic operation on series\n",
    "ds1 = pd.Series([2, 4, 6, 8, 10])\n",
    "ds2 = pd.Series([1, 3, 5, 7, 9])\n",
    "ds = ds1 + ds2\n",
    "print(\"Add two Series:\")\n",
    "print(ds)\n",
    "print(\"Subtract two Series:\")\n",
    "ds = ds1 - ds2\n",
    "print(ds)\n",
    "print(\"Multiply two Series:\")\n",
    "ds = ds1 * ds2\n",
    "print(ds)\n",
    "print(\"Divide Series1 by Series2:\")\n",
    "ds = ds1 / ds2\n",
    "print(ds)"
   ]
  },
  {
   "cell_type": "code",
   "execution_count": 10,
   "metadata": {},
   "outputs": [
    {
     "name": "stdout",
     "output_type": "stream",
     "text": [
      "0    1\n",
      "1    2\n",
      "2    3\n",
      "3    4\n",
      "4    5\n",
      "5    6\n",
      "6    7\n",
      "7    8\n",
      "dtype: int64\n",
      "<class 'pandas.core.series.Series'>\n"
     ]
    }
   ],
   "source": [
    "a=pd.Series([1,2,3,4,5,6,7,8])\n",
    "print(a)\n",
    "print(type(a))"
   ]
  },
  {
   "cell_type": "code",
   "execution_count": 11,
   "metadata": {},
   "outputs": [
    {
     "name": "stdout",
     "output_type": "stream",
     "text": [
      "[1, 2, 3, 4, 5, 6, 7, 8]\n",
      "<class 'list'>\n"
     ]
    }
   ],
   "source": [
    "l=a.tolist()\n",
    "print(l)\n",
    "print(type(l))"
   ]
  },
  {
   "cell_type": "code",
   "execution_count": 16,
   "metadata": {},
   "outputs": [
    {
     "name": "stdout",
     "output_type": "stream",
     "text": [
      "Original Data Series:\n",
      "0       100\n",
      "1       200\n",
      "2    python\n",
      "3    300.12\n",
      "4       400\n",
      "dtype: object\n",
      "Change the said data type to numeric:\n",
      "0    100.00\n",
      "1    200.00\n",
      "2       NaN\n",
      "3    300.12\n",
      "4    400.00\n",
      "dtype: float64\n",
      "<class 'pandas.core.series.Series'>\n"
     ]
    }
   ],
   "source": [
    "#convert datatype\n",
    "s1 = pd.Series(['100', '200', 'python', '300.12', '400'])\n",
    "print(\"Original Data Series:\")\n",
    "print(s1)\n",
    "print(\"Change the said data type to numeric:\")\n",
    "s2 = pd.to_numeric(s1, errors='coerce')\n",
    "print(s2)\n",
    "print(type(s2))"
   ]
  },
  {
   "cell_type": "code",
   "execution_count": 18,
   "metadata": {},
   "outputs": [
    {
     "name": "stdout",
     "output_type": "stream",
     "text": [
      "0       100\n",
      "1       200\n",
      "3    300.12\n",
      "4       400\n",
      "2    python\n",
      "dtype: object\n"
     ]
    }
   ],
   "source": [
    "print(s1.sort_values())"
   ]
  },
  {
   "cell_type": "code",
   "execution_count": 23,
   "metadata": {},
   "outputs": [
    {
     "name": "stdout",
     "output_type": "stream",
     "text": [
      "a    7\n",
      "d    3\n",
      "c    3\n",
      "f    2\n",
      "e    2\n",
      "b    2\n",
      "i    1\n",
      "dtype: int64\n"
     ]
    }
   ],
   "source": [
    "str1 = 'abcaaaaadefabcdeficd'\n",
    "l=pd.Series(list(str1))\n",
    "print(l.value_counts())"
   ]
  },
  {
   "cell_type": "code",
   "execution_count": 24,
   "metadata": {},
   "outputs": [
    {
     "name": "stdout",
     "output_type": "stream",
     "text": [
      "4.818181818181818\n",
      "2.522624895547565\n"
     ]
    }
   ],
   "source": [
    "s = pd.Series(data = [1,2,3,4,5,6,7,8,9,5,3])\n",
    "print(s.mean())\n",
    "print(s.std())"
   ]
  },
  {
   "cell_type": "code",
   "execution_count": 25,
   "metadata": {},
   "outputs": [],
   "source": [
    "s1 = pd.Series(['100', '200', 'python', '300.12', '400'])"
   ]
  },
  {
   "cell_type": "code",
   "execution_count": 27,
   "metadata": {},
   "outputs": [
    {
     "name": "stdout",
     "output_type": "stream",
     "text": [
      "0       100\n",
      "1       200\n",
      "2    python\n",
      "3    300.12\n",
      "4       400\n",
      "0       500\n",
      "1       php\n",
      "dtype: object\n"
     ]
    }
   ],
   "source": [
    "n=pd.Series([500,'php'])\n",
    "print(s1.append(n))"
   ]
  },
  {
   "cell_type": "code",
   "execution_count": 2,
   "metadata": {},
   "outputs": [],
   "source": [
    "ds1 = pd.Series([2, 4, 6, 8, 10])\n",
    "ds2 = pd.Series([1, 3, 5, 7, 10])"
   ]
  },
  {
   "cell_type": "code",
   "execution_count": 3,
   "metadata": {},
   "outputs": [
    {
     "name": "stdout",
     "output_type": "stream",
     "text": [
      "0    False\n",
      "1    False\n",
      "2    False\n",
      "3    False\n",
      "4     True\n",
      "dtype: bool\n",
      "0     True\n",
      "1     True\n",
      "2     True\n",
      "3     True\n",
      "4    False\n",
      "dtype: bool\n",
      "0    False\n",
      "1    False\n",
      "2    False\n",
      "3    False\n",
      "4    False\n",
      "dtype: bool\n",
      "0    False\n",
      "1    False\n",
      "2    False\n",
      "3    False\n",
      "4    False\n",
      "dtype: bool\n",
      "0     True\n",
      "1     True\n",
      "2     True\n",
      "3     True\n",
      "4    False\n",
      "dtype: bool\n"
     ]
    }
   ],
   "source": [
    "print(ds1==ds2)\n",
    "print(ds1>ds2)\n",
    "print(ds2>ds1)\n",
    "print(ds1<ds2)\n",
    "print(ds2<ds1)"
   ]
  },
  {
   "cell_type": "code",
   "execution_count": 4,
   "metadata": {},
   "outputs": [
    {
     "name": "stdout",
     "output_type": "stream",
     "text": [
      "Original Series:\n",
      "sr1:\n",
      "0    1\n",
      "1    2\n",
      "2    3\n",
      "3    4\n",
      "4    5\n",
      "dtype: int64\n",
      "sr2:\n",
      "0     2\n",
      "1     4\n",
      "2     6\n",
      "3     8\n",
      "4    10\n",
      "dtype: int64\n"
     ]
    }
   ],
   "source": [
    "#get the items of a given series not present in another given series\n",
    "sr1 = pd.Series([1, 2, 3, 4, 5])\n",
    "sr2 = pd.Series([2, 4, 6, 8, 10])\n",
    "print(\"Original Series:\")\n",
    "print(\"sr1:\")\n",
    "print(sr1)\n",
    "print(\"sr2:\")\n",
    "print(sr2)\n"
   ]
  },
  {
   "cell_type": "code",
   "execution_count": 9,
   "metadata": {},
   "outputs": [
    {
     "name": "stdout",
     "output_type": "stream",
     "text": [
      "\n",
      "Items of sr1  not present in sr2:\n",
      "0    False\n",
      "1     True\n",
      "2    False\n",
      "3     True\n",
      "4    False\n",
      "dtype: bool\n"
     ]
    }
   ],
   "source": [
    "print(\"\\nItems of sr1  not present in sr2:\")\n",
    "r=sr1.isin(sr2)\n",
    "print(r)\n"
   ]
  },
  {
   "cell_type": "code",
   "execution_count": 10,
   "metadata": {},
   "outputs": [
    {
     "name": "stdout",
     "output_type": "stream",
     "text": [
      "1    2\n",
      "3    4\n",
      "dtype: int64\n"
     ]
    }
   ],
   "source": [
    "result = sr1[sr1.isin(sr2)]\n",
    "print(result)"
   ]
  },
  {
   "cell_type": "code",
   "execution_count": null,
   "metadata": {},
   "outputs": [],
   "source": []
  },
  {
   "cell_type": "code",
   "execution_count": 12,
   "metadata": {},
   "outputs": [
    {
     "name": "stdout",
     "output_type": "stream",
     "text": [
      "\n",
      "Items of sr1 not present in sr2:\n",
      "1    2\n",
      "3    4\n",
      "dtype: int64\n",
      "0    1\n",
      "2    3\n",
      "4    5\n",
      "dtype: int64\n"
     ]
    }
   ],
   "source": [
    "print(\"\\nItems of sr1 not present in sr2:\")\n",
    "r2=sr1[sr1.isin(sr2)]\n",
    "print(r2)\n",
    "result = sr1[~sr1.isin(sr2)]#tidle\n",
    "print(result)"
   ]
  },
  {
   "cell_type": "code",
   "execution_count": 22,
   "metadata": {},
   "outputs": [
    {
     "name": "stdout",
     "output_type": "stream",
     "text": [
      "[[4]]\n"
     ]
    }
   ],
   "source": [
    "sr1 = pd.Series([1, 2, 3, 4, 5])\n",
    "position = np.argwhere(sr1==5)\n",
    "print(position)"
   ]
  },
  {
   "cell_type": "markdown",
   "metadata": {},
   "source": [
    "# DataFrame"
   ]
  },
  {
   "cell_type": "code",
   "execution_count": 23,
   "metadata": {},
   "outputs": [
    {
     "name": "stdout",
     "output_type": "stream",
     "text": [
      "0      {'a': 1, 'b': 2, 'c': 9}\n",
      "1    {'a': 5, 'b': 10, 'c': 15}\n",
      "dtype: object\n",
      "   a   b   c\n",
      "0  1   2   9\n",
      "1  5  10  15\n"
     ]
    }
   ],
   "source": [
    "data=[{'a':1,'b':2,'c':9},{'a':5,'b':10,'c':15}]\n",
    "sr=pd.Series(data)\n",
    "print(sr)\n",
    "df=pd.DataFrame(data)\n",
    "print(df)"
   ]
  },
  {
   "cell_type": "code",
   "execution_count": 24,
   "metadata": {},
   "outputs": [
    {
     "name": "stdout",
     "output_type": "stream",
     "text": [
      "        a   c\n",
      "first   1   9\n",
      "second  5  15\n"
     ]
    }
   ],
   "source": [
    "df=pd.DataFrame(data,index=['first','second'],columns=['a','c'])\n",
    "print(df)"
   ]
  },
  {
   "cell_type": "code",
   "execution_count": 26,
   "metadata": {},
   "outputs": [
    {
     "name": "stdout",
     "output_type": "stream",
     "text": [
      "   product_id product_name   color\n",
      "0           1        jeans    blue\n",
      "1           2        skirt   white\n",
      "2           3      t-shirt  yellow\n",
      "3           4      trouser   black\n"
     ]
    }
   ],
   "source": [
    "df=pd.DataFrame({'product_id':[1,2,3,4],\n",
    "                'product_name':[\"jeans\",\"skirt\",\"t-shirt\",\"trouser\"],\n",
    "                'color':[\"blue\",\"white\",\"yellow\",\"black\"]})\n",
    "print(df)"
   ]
  },
  {
   "cell_type": "code",
   "execution_count": 28,
   "metadata": {},
   "outputs": [
    {
     "name": "stdout",
     "output_type": "stream",
     "text": [
      "   roll_no    name  marks\n",
      "0        1  sameer     78\n",
      "1        2   rishi     90\n"
     ]
    }
   ],
   "source": [
    "df1=pd.DataFrame([[1,'sameer',78],[2,'rishi',90]],columns=['roll_no','name','marks'])\n",
    "print(df1)"
   ]
  },
  {
   "cell_type": "code",
   "execution_count": 30,
   "metadata": {},
   "outputs": [
    {
     "name": "stdout",
     "output_type": "stream",
     "text": [
      "   Store ID       Location  Number of Employees\n",
      "0         1      San Diego                  100\n",
      "1         2    Los Angeles                  120\n",
      "2         3  San Francisco                   90\n",
      "3         4     Sacramento                  115\n"
     ]
    }
   ],
   "source": [
    "df2 = pd.DataFrame([\n",
    "  [1, 'San Diego', 100],\n",
    "  [2, 'Los Angeles', 120],\n",
    "  # Fill in rows 3 and 4\n",
    "  [3,'San Francisco',90],\n",
    "  [4,'Sacramento',115]\n",
    "],\n",
    "  columns=[\n",
    "    #add column names here\n",
    "    'Store ID','Location','Number of Employees'\n",
    "  ])\n",
    "\n",
    "print(df2)"
   ]
  },
  {
   "cell_type": "code",
   "execution_count": 31,
   "metadata": {},
   "outputs": [
    {
     "data": {
      "text/html": [
       "<div>\n",
       "<style scoped>\n",
       "    .dataframe tbody tr th:only-of-type {\n",
       "        vertical-align: middle;\n",
       "    }\n",
       "\n",
       "    .dataframe tbody tr th {\n",
       "        vertical-align: top;\n",
       "    }\n",
       "\n",
       "    .dataframe thead th {\n",
       "        text-align: right;\n",
       "    }\n",
       "</style>\n",
       "<table border=\"1\" class=\"dataframe\">\n",
       "  <thead>\n",
       "    <tr style=\"text-align: right;\">\n",
       "      <th></th>\n",
       "      <th>Store ID</th>\n",
       "      <th>Location</th>\n",
       "      <th>Number of Employees</th>\n",
       "    </tr>\n",
       "  </thead>\n",
       "  <tbody>\n",
       "    <tr>\n",
       "      <th>0</th>\n",
       "      <td>1</td>\n",
       "      <td>San Diego</td>\n",
       "      <td>100</td>\n",
       "    </tr>\n",
       "    <tr>\n",
       "      <th>1</th>\n",
       "      <td>2</td>\n",
       "      <td>Los Angeles</td>\n",
       "      <td>120</td>\n",
       "    </tr>\n",
       "  </tbody>\n",
       "</table>\n",
       "</div>"
      ],
      "text/plain": [
       "   Store ID     Location  Number of Employees\n",
       "0         1    San Diego                  100\n",
       "1         2  Los Angeles                  120"
      ]
     },
     "execution_count": 31,
     "metadata": {},
     "output_type": "execute_result"
    }
   ],
   "source": [
    "df2.head(2)#first 5 rows"
   ]
  },
  {
   "cell_type": "code",
   "execution_count": 32,
   "metadata": {},
   "outputs": [
    {
     "name": "stdout",
     "output_type": "stream",
     "text": [
      "<class 'pandas.core.frame.DataFrame'>\n",
      "RangeIndex: 4 entries, 0 to 3\n",
      "Data columns (total 3 columns):\n",
      "Store ID               4 non-null int64\n",
      "Location               4 non-null object\n",
      "Number of Employees    4 non-null int64\n",
      "dtypes: int64(2), object(1)\n",
      "memory usage: 176.0+ bytes\n"
     ]
    }
   ],
   "source": [
    "df2.info()#information regarding your data"
   ]
  },
  {
   "cell_type": "code",
   "execution_count": 33,
   "metadata": {},
   "outputs": [
    {
     "data": {
      "text/html": [
       "<div>\n",
       "<style scoped>\n",
       "    .dataframe tbody tr th:only-of-type {\n",
       "        vertical-align: middle;\n",
       "    }\n",
       "\n",
       "    .dataframe tbody tr th {\n",
       "        vertical-align: top;\n",
       "    }\n",
       "\n",
       "    .dataframe thead th {\n",
       "        text-align: right;\n",
       "    }\n",
       "</style>\n",
       "<table border=\"1\" class=\"dataframe\">\n",
       "  <thead>\n",
       "    <tr style=\"text-align: right;\">\n",
       "      <th></th>\n",
       "      <th>Store ID</th>\n",
       "      <th>Location</th>\n",
       "      <th>Number of Employees</th>\n",
       "    </tr>\n",
       "  </thead>\n",
       "  <tbody>\n",
       "    <tr>\n",
       "      <th>1</th>\n",
       "      <td>2</td>\n",
       "      <td>Los Angeles</td>\n",
       "      <td>120</td>\n",
       "    </tr>\n",
       "    <tr>\n",
       "      <th>2</th>\n",
       "      <td>3</td>\n",
       "      <td>San Francisco</td>\n",
       "      <td>90</td>\n",
       "    </tr>\n",
       "    <tr>\n",
       "      <th>3</th>\n",
       "      <td>4</td>\n",
       "      <td>Sacramento</td>\n",
       "      <td>115</td>\n",
       "    </tr>\n",
       "  </tbody>\n",
       "</table>\n",
       "</div>"
      ],
      "text/plain": [
       "   Store ID       Location  Number of Employees\n",
       "1         2    Los Angeles                  120\n",
       "2         3  San Francisco                   90\n",
       "3         4     Sacramento                  115"
      ]
     },
     "execution_count": 33,
     "metadata": {},
     "output_type": "execute_result"
    }
   ],
   "source": [
    "df2.tail(3)#last 5 rows of data"
   ]
  },
  {
   "cell_type": "code",
   "execution_count": 37,
   "metadata": {},
   "outputs": [
    {
     "data": {
      "text/plain": [
       "0        San Diego\n",
       "1      Los Angeles\n",
       "2    San Francisco\n",
       "3       Sacramento\n",
       "Name: Location, dtype: object"
      ]
     },
     "execution_count": 37,
     "metadata": {},
     "output_type": "execute_result"
    }
   ],
   "source": [
    "df2['Location']#dataframe['column_name']"
   ]
  },
  {
   "cell_type": "code",
   "execution_count": 38,
   "metadata": {},
   "outputs": [
    {
     "data": {
      "text/plain": [
       "0    100\n",
       "1    120\n",
       "2     90\n",
       "3    115\n",
       "Name: Number of Employees, dtype: int64"
      ]
     },
     "execution_count": 38,
     "metadata": {},
     "output_type": "execute_result"
    }
   ],
   "source": [
    "df2['Number of Employees']"
   ]
  },
  {
   "cell_type": "code",
   "execution_count": 36,
   "metadata": {},
   "outputs": [
    {
     "data": {
      "text/plain": [
       "Store ID                         2\n",
       "Location               Los Angeles\n",
       "Number of Employees            120\n",
       "Name: 1, dtype: object"
      ]
     },
     "execution_count": 36,
     "metadata": {},
     "output_type": "execute_result"
    }
   ],
   "source": [
    "df2.iloc[1]#to access row\n",
    "#dataframe.iloc[row_index]"
   ]
  },
  {
   "cell_type": "code",
   "execution_count": 39,
   "metadata": {},
   "outputs": [],
   "source": [
    "df = pd.DataFrame([\n",
    "  ['January', 100, 100, 23, 100],\n",
    "  ['February', 51, 45, 145, 45],\n",
    "  ['March', 81, 96, 65, 96],\n",
    "  ['April', 80, 80, 54, 180],\n",
    "  ['May', 51, 54, 54, 154],\n",
    "  ['June', 112, 109, 79, 129]],\n",
    "  columns=['month', 'clinic_east',\n",
    "           'clinic_north', 'clinic_south',\n",
    "           'clinic_west'])"
   ]
  },
  {
   "cell_type": "code",
   "execution_count": 41,
   "metadata": {},
   "outputs": [
    {
     "name": "stdout",
     "output_type": "stream",
     "text": [
      "month           March\n",
      "clinic_east        81\n",
      "clinic_north       96\n",
      "clinic_south       65\n",
      "clinic_west        96\n",
      "Name: 2, dtype: object\n"
     ]
    }
   ],
   "source": [
    "march = df.iloc[2]\n",
    "print(march)"
   ]
  },
  {
   "cell_type": "code",
   "execution_count": 46,
   "metadata": {},
   "outputs": [
    {
     "name": "stdout",
     "output_type": "stream",
     "text": [
      "      month  clinic_east  clinic_north  clinic_south  clinic_west\n",
      "1  February           51            45           145           45\n",
      "2     March           81            96            65           96\n",
      "3     April           80            80            54          180\n",
      "4       May           51            54            54          154\n",
      "5      June          112           109            79          129\n"
     ]
    }
   ],
   "source": [
    "feb_june = df.iloc[1:]\n",
    "print(feb_june)"
   ]
  },
  {
   "cell_type": "code",
   "execution_count": 49,
   "metadata": {},
   "outputs": [
    {
     "name": "stdout",
     "output_type": "stream",
     "text": [
      "      month  clinic_east  clinic_north  clinic_south  clinic_west\n",
      "0   January          100           100            23          100\n",
      "1  February           51            45           145           45\n",
      "2     March           81            96            65           96\n"
     ]
    }
   ],
   "source": [
    "jan_mar = df.iloc[:3]\n",
    "print(jan_mar)"
   ]
  },
  {
   "cell_type": "code",
   "execution_count": 55,
   "metadata": {},
   "outputs": [
    {
     "name": "stdout",
     "output_type": "stream",
     "text": [
      "     month  clinic_east  clinic_north  clinic_south  clinic_west\n",
      "0  January          100           100            23          100\n"
     ]
    }
   ],
   "source": [
    "#conditional selection\n",
    "jan = df[df.month=='January']\n",
    "print(jan)"
   ]
  },
  {
   "cell_type": "code",
   "execution_count": 68,
   "metadata": {},
   "outputs": [
    {
     "name": "stdout",
     "output_type": "stream",
     "text": [
      "     month  clinic_east  clinic_north  clinic_south  clinic_west\n",
      "0  January          100           100            23          100\n"
     ]
    }
   ],
   "source": [
    "jan_may = df[(df.month=='January') & (df.clinic_north==100)]\n",
    "print(jan_may)"
   ]
  },
  {
   "cell_type": "code",
   "execution_count": 61,
   "metadata": {},
   "outputs": [
    {
     "name": "stdout",
     "output_type": "stream",
     "text": [
      "   month  clinic_east  clinic_north  clinic_south  clinic_west\n",
      "3  April           80            80            54          180\n",
      "5   June          112           109            79          129\n"
     ]
    }
   ],
   "source": [
    "df2=df[(df.month=='April') | (df.clinic_north>100)]\n",
    "print(df2)"
   ]
  },
  {
   "cell_type": "code",
   "execution_count": 62,
   "metadata": {},
   "outputs": [
    {
     "name": "stdout",
     "output_type": "stream",
     "text": [
      "     month  clinic_east  clinic_north  clinic_south  clinic_west\n",
      "0  January          100           100            23          100\n",
      "4      May           51            54            54          154\n",
      "5     June          112           109            79          129\n"
     ]
    }
   ],
   "source": [
    "multiple = df[df.month.isin(['January','May','June'])]\n",
    "print(multiple)"
   ]
  },
  {
   "cell_type": "code",
   "execution_count": 67,
   "metadata": {},
   "outputs": [
    {
     "name": "stdout",
     "output_type": "stream",
     "text": [
      "     month  clinic_east  clinic_north  clinic_south  clinic_west\n",
      "0  January          100           100            23          100\n",
      "1      May           51            54            54          154\n",
      "2     June          112           109            79          129\n"
     ]
    }
   ],
   "source": [
    "df3=multiple.reset_index(drop=True)\n",
    "print(df3)"
   ]
  },
  {
   "cell_type": "code",
   "execution_count": 70,
   "metadata": {},
   "outputs": [
    {
     "name": "stdout",
     "output_type": "stream",
     "text": [
      "       id  first_name   last_name                         email     shoe_type  \\\n",
      "0   54791     Rebecca     Lindsay  RebeccaLindsay57@hotmail.com         clogs   \n",
      "1   53450       Emily       Joyce        EmilyJoyce25@gmail.com  ballet flats   \n",
      "2   91987       Joyce      Waller        Joyce.Waller@gmail.com       sandals   \n",
      "3   14437      Justin    Erickson   Justin.Erickson@outlook.com         clogs   \n",
      "4   79357      Andrew       Banks              AB4318@gmail.com         boots   \n",
      "5   52386       Julie       Marsh        JulieMarsh59@gmail.com       sandals   \n",
      "6   20487      Thomas      Jensen              TJ5470@gmail.com         clogs   \n",
      "7   76971      Janice       Hicks        Janice.Hicks@gmail.com         clogs   \n",
      "8   21586     Gabriel      Porter     GabrielPorter24@gmail.com         clogs   \n",
      "9   62083     Frances      Palmer     FrancesPalmer50@gmail.com        wedges   \n",
      "10  91629     Jessica        Hale       JessicaHale25@gmail.com         clogs   \n",
      "11  98602    Lawrence      Parker    LawrenceParker44@gmail.com        wedges   \n",
      "12  45832       Susan      Dennis       SusanDennis58@gmail.com  ballet flats   \n",
      "13  33862       Diane       Ochoa              DO2680@gmail.com       sandals   \n",
      "14  73431     Rebecca     Charles     Rebecca.Charles@gmail.com         boots   \n",
      "15  93889  Jacqueline       Crane            JC2072@hotmail.com        wedges   \n",
      "16  39888     Vincent  Stephenson            VS4753@outlook.com         boots   \n",
      "17  35961         Roy     Tillman        RoyTillman20@gmail.com         boots   \n",
      "18  24560      Thomas    Roberson     Thomas.Roberson@gmail.com        wedges   \n",
      "19  28559      Angela      Newton       ANewton1977@outlook.com        wedges   \n",
      "\n",
      "   shoe_material shoe_color  gender  \n",
      "0   faux-leather      black  female  \n",
      "1   faux-leather       navy  female  \n",
      "2         fabric      black    male  \n",
      "3   faux-leather        red    male  \n",
      "4        leather      brown    male  \n",
      "5         fabric      black  female  \n",
      "6         fabric       navy    male  \n",
      "7   faux-leather       navy  female  \n",
      "8        leather      brown    male  \n",
      "9        leather      white    male  \n",
      "10       leather        red  female  \n",
      "11        fabric      brown  female  \n",
      "12        fabric      white  female  \n",
      "13        fabric        red  female  \n",
      "14  faux-leather      white  female  \n",
      "15        fabric        red  female  \n",
      "16       leather      black    male  \n",
      "17       leather      white    male  \n",
      "18        fabric        red    male  \n",
      "19        fabric        red  female  \n"
     ]
    }
   ],
   "source": [
    "df= pd.read_csv(\"shoefly.csv\")\n",
    "print(df)"
   ]
  },
  {
   "cell_type": "code",
   "execution_count": 71,
   "metadata": {},
   "outputs": [
    {
     "data": {
      "text/html": [
       "<div>\n",
       "<style scoped>\n",
       "    .dataframe tbody tr th:only-of-type {\n",
       "        vertical-align: middle;\n",
       "    }\n",
       "\n",
       "    .dataframe tbody tr th {\n",
       "        vertical-align: top;\n",
       "    }\n",
       "\n",
       "    .dataframe thead th {\n",
       "        text-align: right;\n",
       "    }\n",
       "</style>\n",
       "<table border=\"1\" class=\"dataframe\">\n",
       "  <thead>\n",
       "    <tr style=\"text-align: right;\">\n",
       "      <th></th>\n",
       "      <th>id</th>\n",
       "      <th>first_name</th>\n",
       "      <th>last_name</th>\n",
       "      <th>email</th>\n",
       "      <th>shoe_type</th>\n",
       "      <th>shoe_material</th>\n",
       "      <th>shoe_color</th>\n",
       "      <th>gender</th>\n",
       "    </tr>\n",
       "  </thead>\n",
       "  <tbody>\n",
       "    <tr>\n",
       "      <th>0</th>\n",
       "      <td>54791</td>\n",
       "      <td>Rebecca</td>\n",
       "      <td>Lindsay</td>\n",
       "      <td>RebeccaLindsay57@hotmail.com</td>\n",
       "      <td>clogs</td>\n",
       "      <td>faux-leather</td>\n",
       "      <td>black</td>\n",
       "      <td>female</td>\n",
       "    </tr>\n",
       "    <tr>\n",
       "      <th>1</th>\n",
       "      <td>53450</td>\n",
       "      <td>Emily</td>\n",
       "      <td>Joyce</td>\n",
       "      <td>EmilyJoyce25@gmail.com</td>\n",
       "      <td>ballet flats</td>\n",
       "      <td>faux-leather</td>\n",
       "      <td>navy</td>\n",
       "      <td>female</td>\n",
       "    </tr>\n",
       "    <tr>\n",
       "      <th>2</th>\n",
       "      <td>91987</td>\n",
       "      <td>Joyce</td>\n",
       "      <td>Waller</td>\n",
       "      <td>Joyce.Waller@gmail.com</td>\n",
       "      <td>sandals</td>\n",
       "      <td>fabric</td>\n",
       "      <td>black</td>\n",
       "      <td>male</td>\n",
       "    </tr>\n",
       "    <tr>\n",
       "      <th>3</th>\n",
       "      <td>14437</td>\n",
       "      <td>Justin</td>\n",
       "      <td>Erickson</td>\n",
       "      <td>Justin.Erickson@outlook.com</td>\n",
       "      <td>clogs</td>\n",
       "      <td>faux-leather</td>\n",
       "      <td>red</td>\n",
       "      <td>male</td>\n",
       "    </tr>\n",
       "    <tr>\n",
       "      <th>4</th>\n",
       "      <td>79357</td>\n",
       "      <td>Andrew</td>\n",
       "      <td>Banks</td>\n",
       "      <td>AB4318@gmail.com</td>\n",
       "      <td>boots</td>\n",
       "      <td>leather</td>\n",
       "      <td>brown</td>\n",
       "      <td>male</td>\n",
       "    </tr>\n",
       "  </tbody>\n",
       "</table>\n",
       "</div>"
      ],
      "text/plain": [
       "      id first_name last_name                         email     shoe_type  \\\n",
       "0  54791    Rebecca   Lindsay  RebeccaLindsay57@hotmail.com         clogs   \n",
       "1  53450      Emily     Joyce        EmilyJoyce25@gmail.com  ballet flats   \n",
       "2  91987      Joyce    Waller        Joyce.Waller@gmail.com       sandals   \n",
       "3  14437     Justin  Erickson   Justin.Erickson@outlook.com         clogs   \n",
       "4  79357     Andrew     Banks              AB4318@gmail.com         boots   \n",
       "\n",
       "  shoe_material shoe_color  gender  \n",
       "0  faux-leather      black  female  \n",
       "1  faux-leather       navy  female  \n",
       "2        fabric      black    male  \n",
       "3  faux-leather        red    male  \n",
       "4       leather      brown    male  "
      ]
     },
     "execution_count": 71,
     "metadata": {},
     "output_type": "execute_result"
    }
   ],
   "source": [
    "df.head()"
   ]
  },
  {
   "cell_type": "code",
   "execution_count": 72,
   "metadata": {},
   "outputs": [
    {
     "data": {
      "text/html": [
       "<div>\n",
       "<style scoped>\n",
       "    .dataframe tbody tr th:only-of-type {\n",
       "        vertical-align: middle;\n",
       "    }\n",
       "\n",
       "    .dataframe tbody tr th {\n",
       "        vertical-align: top;\n",
       "    }\n",
       "\n",
       "    .dataframe thead th {\n",
       "        text-align: right;\n",
       "    }\n",
       "</style>\n",
       "<table border=\"1\" class=\"dataframe\">\n",
       "  <thead>\n",
       "    <tr style=\"text-align: right;\">\n",
       "      <th></th>\n",
       "      <th>id</th>\n",
       "      <th>first_name</th>\n",
       "      <th>last_name</th>\n",
       "      <th>email</th>\n",
       "      <th>shoe_type</th>\n",
       "      <th>shoe_material</th>\n",
       "      <th>shoe_color</th>\n",
       "      <th>gender</th>\n",
       "    </tr>\n",
       "  </thead>\n",
       "  <tbody>\n",
       "    <tr>\n",
       "      <th>15</th>\n",
       "      <td>93889</td>\n",
       "      <td>Jacqueline</td>\n",
       "      <td>Crane</td>\n",
       "      <td>JC2072@hotmail.com</td>\n",
       "      <td>wedges</td>\n",
       "      <td>fabric</td>\n",
       "      <td>red</td>\n",
       "      <td>female</td>\n",
       "    </tr>\n",
       "    <tr>\n",
       "      <th>16</th>\n",
       "      <td>39888</td>\n",
       "      <td>Vincent</td>\n",
       "      <td>Stephenson</td>\n",
       "      <td>VS4753@outlook.com</td>\n",
       "      <td>boots</td>\n",
       "      <td>leather</td>\n",
       "      <td>black</td>\n",
       "      <td>male</td>\n",
       "    </tr>\n",
       "    <tr>\n",
       "      <th>17</th>\n",
       "      <td>35961</td>\n",
       "      <td>Roy</td>\n",
       "      <td>Tillman</td>\n",
       "      <td>RoyTillman20@gmail.com</td>\n",
       "      <td>boots</td>\n",
       "      <td>leather</td>\n",
       "      <td>white</td>\n",
       "      <td>male</td>\n",
       "    </tr>\n",
       "    <tr>\n",
       "      <th>18</th>\n",
       "      <td>24560</td>\n",
       "      <td>Thomas</td>\n",
       "      <td>Roberson</td>\n",
       "      <td>Thomas.Roberson@gmail.com</td>\n",
       "      <td>wedges</td>\n",
       "      <td>fabric</td>\n",
       "      <td>red</td>\n",
       "      <td>male</td>\n",
       "    </tr>\n",
       "    <tr>\n",
       "      <th>19</th>\n",
       "      <td>28559</td>\n",
       "      <td>Angela</td>\n",
       "      <td>Newton</td>\n",
       "      <td>ANewton1977@outlook.com</td>\n",
       "      <td>wedges</td>\n",
       "      <td>fabric</td>\n",
       "      <td>red</td>\n",
       "      <td>female</td>\n",
       "    </tr>\n",
       "  </tbody>\n",
       "</table>\n",
       "</div>"
      ],
      "text/plain": [
       "       id  first_name   last_name                      email shoe_type  \\\n",
       "15  93889  Jacqueline       Crane         JC2072@hotmail.com    wedges   \n",
       "16  39888     Vincent  Stephenson         VS4753@outlook.com     boots   \n",
       "17  35961         Roy     Tillman     RoyTillman20@gmail.com     boots   \n",
       "18  24560      Thomas    Roberson  Thomas.Roberson@gmail.com    wedges   \n",
       "19  28559      Angela      Newton    ANewton1977@outlook.com    wedges   \n",
       "\n",
       "   shoe_material shoe_color  gender  \n",
       "15        fabric        red  female  \n",
       "16       leather      black    male  \n",
       "17       leather      white    male  \n",
       "18        fabric        red    male  \n",
       "19        fabric        red  female  "
      ]
     },
     "execution_count": 72,
     "metadata": {},
     "output_type": "execute_result"
    }
   ],
   "source": [
    "df.tail()"
   ]
  },
  {
   "cell_type": "code",
   "execution_count": 73,
   "metadata": {},
   "outputs": [
    {
     "data": {
      "text/plain": [
       "(20, 8)"
      ]
     },
     "execution_count": 73,
     "metadata": {},
     "output_type": "execute_result"
    }
   ],
   "source": [
    "df.shape"
   ]
  },
  {
   "cell_type": "code",
   "execution_count": 74,
   "metadata": {},
   "outputs": [
    {
     "data": {
      "text/plain": [
       "160"
      ]
     },
     "execution_count": 74,
     "metadata": {},
     "output_type": "execute_result"
    }
   ],
   "source": [
    "df.size"
   ]
  },
  {
   "cell_type": "code",
   "execution_count": 75,
   "metadata": {},
   "outputs": [
    {
     "data": {
      "text/plain": [
       "2"
      ]
     },
     "execution_count": 75,
     "metadata": {},
     "output_type": "execute_result"
    }
   ],
   "source": [
    "df.ndim"
   ]
  },
  {
   "cell_type": "code",
   "execution_count": 76,
   "metadata": {},
   "outputs": [
    {
     "name": "stdout",
     "output_type": "stream",
     "text": [
      "<class 'pandas.core.frame.DataFrame'>\n",
      "RangeIndex: 20 entries, 0 to 19\n",
      "Data columns (total 8 columns):\n",
      "id               20 non-null int64\n",
      "first_name       20 non-null object\n",
      "last_name        20 non-null object\n",
      "email            20 non-null object\n",
      "shoe_type        20 non-null object\n",
      "shoe_material    20 non-null object\n",
      "shoe_color       20 non-null object\n",
      "gender           20 non-null object\n",
      "dtypes: int64(1), object(7)\n",
      "memory usage: 1.3+ KB\n"
     ]
    }
   ],
   "source": [
    "df.info()"
   ]
  },
  {
   "cell_type": "code",
   "execution_count": 77,
   "metadata": {},
   "outputs": [
    {
     "name": "stdout",
     "output_type": "stream",
     "text": [
      "      id first_name last_name                         email     shoe_type  \\\n",
      "0  54791    Rebecca   Lindsay  RebeccaLindsay57@hotmail.com         clogs   \n",
      "1  53450      Emily     Joyce        EmilyJoyce25@gmail.com  ballet flats   \n",
      "2  91987      Joyce    Waller        Joyce.Waller@gmail.com       sandals   \n",
      "3  14437     Justin  Erickson   Justin.Erickson@outlook.com         clogs   \n",
      "4  79357     Andrew     Banks              AB4318@gmail.com         boots   \n",
      "\n",
      "  shoe_material shoe_color  gender  \n",
      "0  faux-leather      black  female  \n",
      "1  faux-leather       navy  female  \n",
      "2        fabric      black    male  \n",
      "3  faux-leather        red    male  \n",
      "4       leather      brown    male  \n",
      "0     RebeccaLindsay57@hotmail.com\n",
      "1           EmilyJoyce25@gmail.com\n",
      "2           Joyce.Waller@gmail.com\n",
      "3      Justin.Erickson@outlook.com\n",
      "4                 AB4318@gmail.com\n",
      "5           JulieMarsh59@gmail.com\n",
      "6                 TJ5470@gmail.com\n",
      "7           Janice.Hicks@gmail.com\n",
      "8        GabrielPorter24@gmail.com\n",
      "9        FrancesPalmer50@gmail.com\n",
      "10         JessicaHale25@gmail.com\n",
      "11      LawrenceParker44@gmail.com\n",
      "12         SusanDennis58@gmail.com\n",
      "13                DO2680@gmail.com\n",
      "14       Rebecca.Charles@gmail.com\n",
      "15              JC2072@hotmail.com\n",
      "16              VS4753@outlook.com\n",
      "17          RoyTillman20@gmail.com\n",
      "18       Thomas.Roberson@gmail.com\n",
      "19         ANewton1977@outlook.com\n",
      "Name: email, dtype: object\n",
      "      id first_name last_name                      email shoe_type  \\\n",
      "9  62083    Frances    Palmer  FrancesPalmer50@gmail.com    wedges   \n",
      "\n",
      "  shoe_material shoe_color gender  \n",
      "9       leather      white   male  \n",
      "       id first_name   last_name                         email     shoe_type  \\\n",
      "0   54791    Rebecca     Lindsay  RebeccaLindsay57@hotmail.com         clogs   \n",
      "1   53450      Emily       Joyce        EmilyJoyce25@gmail.com  ballet flats   \n",
      "3   14437     Justin    Erickson   Justin.Erickson@outlook.com         clogs   \n",
      "4   79357     Andrew       Banks              AB4318@gmail.com         boots   \n",
      "6   20487     Thomas      Jensen              TJ5470@gmail.com         clogs   \n",
      "7   76971     Janice       Hicks        Janice.Hicks@gmail.com         clogs   \n",
      "8   21586    Gabriel      Porter     GabrielPorter24@gmail.com         clogs   \n",
      "10  91629    Jessica        Hale       JessicaHale25@gmail.com         clogs   \n",
      "12  45832      Susan      Dennis       SusanDennis58@gmail.com  ballet flats   \n",
      "14  73431    Rebecca     Charles     Rebecca.Charles@gmail.com         boots   \n",
      "16  39888    Vincent  Stephenson            VS4753@outlook.com         boots   \n",
      "17  35961        Roy     Tillman        RoyTillman20@gmail.com         boots   \n",
      "\n",
      "   shoe_material shoe_color  gender  \n",
      "0   faux-leather      black  female  \n",
      "1   faux-leather       navy  female  \n",
      "3   faux-leather        red    male  \n",
      "4        leather      brown    male  \n",
      "6         fabric       navy    male  \n",
      "7   faux-leather       navy  female  \n",
      "8        leather      brown    male  \n",
      "10       leather        red  female  \n",
      "12        fabric      white  female  \n",
      "14  faux-leather      white  female  \n",
      "16       leather      black    male  \n",
      "17       leather      white    male  \n"
     ]
    }
   ],
   "source": [
    "#Part 1: reading the csv\n",
    "orders = pd.read_csv('shoefly.csv')\n",
    "\n",
    "#Part 2: inspecting the first five lines of data\n",
    "print(orders.head(5))\n",
    "\n",
    "#Part 3: selecting the column 'email'\n",
    "emails = orders.email\n",
    "print(emails)\n",
    "\n",
    "#Part 4: the Frances Palmer incident\n",
    "frances_palmer = orders[(orders.first_name == 'Frances') & (orders.last_name == 'Palmer')]\n",
    "print(frances_palmer)\n",
    "\n",
    "#Part 5: Comfy feet means more time on the street\n",
    "comfy_shoes = orders[orders.shoe_type.isin(['clogs', 'boots', 'ballet flats'])]\n",
    "print(comfy_shoes)"
   ]
  },
  {
   "cell_type": "code",
   "execution_count": 78,
   "metadata": {},
   "outputs": [
    {
     "name": "stdout",
     "output_type": "stream",
     "text": [
      "        one       two     three\n",
      "a -1.469375 -1.902144 -1.646910\n",
      "b       NaN       NaN       NaN\n",
      "c -1.013328 -0.161013 -0.659562\n",
      "d       NaN       NaN       NaN\n",
      "e  0.426992  1.271226  0.274428\n",
      "f  0.999085 -1.129183 -0.404957\n",
      "g       NaN       NaN       NaN\n",
      "h -1.325067 -1.360315  1.257981\n"
     ]
    }
   ],
   "source": [
    "df=pd.DataFrame(np.random.randn(5,3),index=['a','c','e','f','h'],columns=['one','two','three'])\n",
    "\n",
    "df=df.reindex(['a','b','c','d','e','f','g','h'])\n",
    "\n",
    "\n",
    "print(df)\n",
    "#not a number-NaN"
   ]
  },
  {
   "cell_type": "code",
   "execution_count": 84,
   "metadata": {},
   "outputs": [
    {
     "data": {
      "text/plain": [
       "a    False\n",
       "b     True\n",
       "c    False\n",
       "d     True\n",
       "e    False\n",
       "f    False\n",
       "g     True\n",
       "h    False\n",
       "Name: one, dtype: bool"
      ]
     },
     "execution_count": 84,
     "metadata": {},
     "output_type": "execute_result"
    }
   ],
   "source": [
    "df['one'].isnull()"
   ]
  },
  {
   "cell_type": "code",
   "execution_count": 85,
   "metadata": {},
   "outputs": [
    {
     "data": {
      "text/plain": [
       "3"
      ]
     },
     "execution_count": 85,
     "metadata": {},
     "output_type": "execute_result"
    }
   ],
   "source": [
    "df['one'].isnull().sum()"
   ]
  },
  {
   "cell_type": "code",
   "execution_count": 80,
   "metadata": {},
   "outputs": [
    {
     "name": "stdout",
     "output_type": "stream",
     "text": [
      "a     True\n",
      "b    False\n",
      "c     True\n",
      "d    False\n",
      "e     True\n",
      "f     True\n",
      "g    False\n",
      "h     True\n",
      "Name: one, dtype: bool\n"
     ]
    }
   ],
   "source": [
    "print(df['one'].notnull())"
   ]
  },
  {
   "cell_type": "code",
   "execution_count": 86,
   "metadata": {},
   "outputs": [
    {
     "name": "stdout",
     "output_type": "stream",
     "text": [
      "        one       two     three\n",
      "a -1.469375 -1.902144 -1.646910\n",
      "c -1.013328 -0.161013 -0.659562\n",
      "e  0.426992  1.271226  0.274428\n",
      "f  0.999085 -1.129183 -0.404957\n",
      "h -1.325067 -1.360315  1.257981\n",
      "        one       two     three\n",
      "a -1.469375 -1.902144 -1.646910\n",
      "b       NaN       NaN       NaN\n",
      "c -1.013328 -0.161013 -0.659562\n",
      "d       NaN       NaN       NaN\n",
      "e  0.426992  1.271226  0.274428\n",
      "f  0.999085 -1.129183 -0.404957\n",
      "g       NaN       NaN       NaN\n",
      "h -1.325067 -1.360315  1.257981\n"
     ]
    }
   ],
   "source": [
    "print(df.dropna())\n",
    "print(df)"
   ]
  },
  {
   "cell_type": "code",
   "execution_count": 88,
   "metadata": {},
   "outputs": [
    {
     "name": "stdout",
     "output_type": "stream",
     "text": [
      "one      True\n",
      "two      True\n",
      "three    True\n",
      "Name: b, dtype: bool\n"
     ]
    }
   ],
   "source": [
    "print(df.loc['b'].isnull())\n"
   ]
  },
  {
   "cell_type": "code",
   "execution_count": 89,
   "metadata": {},
   "outputs": [
    {
     "name": "stdout",
     "output_type": "stream",
     "text": [
      "one      True\n",
      "two      True\n",
      "three    True\n",
      "Name: c, dtype: bool\n"
     ]
    }
   ],
   "source": [
    "print(df.loc['c'].notnull())"
   ]
  },
  {
   "cell_type": "code",
   "execution_count": 83,
   "metadata": {},
   "outputs": [
    {
     "name": "stdout",
     "output_type": "stream",
     "text": [
      "        one       two     three\n",
      "a -1.469375 -1.902144 -1.646910\n",
      "b  0.000000  0.000000  0.000000\n",
      "c -1.013328 -0.161013 -0.659562\n",
      "d  0.000000  0.000000  0.000000\n",
      "e  0.426992  1.271226  0.274428\n",
      "f  0.999085 -1.129183 -0.404957\n",
      "g  0.000000  0.000000  0.000000\n",
      "h -1.325067 -1.360315  1.257981\n"
     ]
    }
   ],
   "source": [
    "print(df.fillna(0))"
   ]
  },
  {
   "cell_type": "code",
   "execution_count": 22,
   "metadata": {},
   "outputs": [
    {
     "name": "stdout",
     "output_type": "stream",
     "text": [
      "  company  person  sales\n",
      "0    goog  vishal    200\n",
      "1    goog  akshay    120\n",
      "2    msft  satish    340\n",
      "3    msft    anuj    124\n",
      "4      fb  sekhar    243\n",
      "5      fb  sanjay    350\n"
     ]
    }
   ],
   "source": [
    "data={'company':['goog','goog','msft','msft','fb','fb'],\n",
    "         'person':['vishal','akshay','satish','anuj','sekhar','sanjay'],\n",
    "           'sales':[200,120,340,124,243,350]}\n",
    "df=pd.DataFrame(data)\n",
    "print(df)"
   ]
  },
  {
   "cell_type": "code",
   "execution_count": 23,
   "metadata": {},
   "outputs": [
    {
     "name": "stdout",
     "output_type": "stream",
     "text": [
      "<pandas.core.groupby.generic.DataFrameGroupBy object at 0x000001DCAA1BE5C0>\n"
     ]
    }
   ],
   "source": [
    "print(df.groupby(['company']))"
   ]
  },
  {
   "cell_type": "code",
   "execution_count": 24,
   "metadata": {},
   "outputs": [
    {
     "name": "stdout",
     "output_type": "stream",
     "text": [
      "company\n",
      "fb      593\n",
      "goog    320\n",
      "msft    464\n",
      "Name: sales, dtype: int64\n"
     ]
    }
   ],
   "source": [
    "print(df.groupby(['company'])['sales'].sum())"
   ]
  },
  {
   "cell_type": "code",
   "execution_count": 25,
   "metadata": {},
   "outputs": [
    {
     "name": "stdout",
     "output_type": "stream",
     "text": [
      "company\n",
      "fb      296.5\n",
      "goog    160.0\n",
      "msft    232.0\n",
      "Name: sales, dtype: float64\n",
      "company\n",
      "fb      593\n",
      "goog    320\n",
      "msft    464\n",
      "Name: sales, dtype: int64\n",
      "company\n",
      "fb       75.660426\n",
      "goog     56.568542\n",
      "msft    152.735065\n",
      "Name: sales, dtype: float64\n",
      "company\n",
      "fb      243\n",
      "goog    120\n",
      "msft    124\n",
      "Name: sales, dtype: int64\n",
      "company\n",
      "fb      350\n",
      "goog    200\n",
      "msft    340\n",
      "Name: sales, dtype: int64\n"
     ]
    }
   ],
   "source": [
    "#find out mean(average) of sales by company\n",
    "print(df.groupby(['company'])['sales'].mean())\n",
    "print(df.groupby(['company'])['sales'].sum())\n",
    "print(df.groupby(['company'])['sales'].std())\n",
    "print(df.groupby(['company'])['sales'].min())\n",
    "print(df.groupby(['company'])['sales'].max())"
   ]
  },
  {
   "cell_type": "code",
   "execution_count": 29,
   "metadata": {},
   "outputs": [],
   "source": [
    "df = pd.DataFrame([\n",
    "  ['January', 100, 100, 23, 100],\n",
    "  ['February', 51, 45, 145, 45],\n",
    "  ['March', 81, 96, 65, 96],\n",
    "  ['April', 80, 80, 54, 180],\n",
    "  ['May', 51, 54, 54, 154],\n",
    "  ['June', 112, 109, 79, 129]],\n",
    "  columns=['month', 'clinic_east',\n",
    "           'clinic_north', 'clinic_south',\n",
    "           'clinic_west'])"
   ]
  },
  {
   "cell_type": "code",
   "execution_count": 9,
   "metadata": {},
   "outputs": [
    {
     "name": "stdout",
     "output_type": "stream",
     "text": [
      "      month  clinic_east  clinic_north  clinic_south  clinic_west\n",
      "0   January          100           100            23          100\n",
      "1  February           51            45           145           45\n",
      "2     March           81            96            65           96\n",
      "3     April           80            80            54          180\n",
      "4       May           51            54            54          154\n",
      "5      June          112           109            79          129\n"
     ]
    }
   ],
   "source": [
    "print(df)"
   ]
  },
  {
   "cell_type": "code",
   "execution_count": 16,
   "metadata": {},
   "outputs": [
    {
     "data": {
      "text/plain": [
       "100"
      ]
     },
     "execution_count": 16,
     "metadata": {},
     "output_type": "execute_result"
    }
   ],
   "source": [
    "df.at[0,'clinic_north']"
   ]
  },
  {
   "cell_type": "code",
   "execution_count": 17,
   "metadata": {},
   "outputs": [
    {
     "data": {
      "text/plain": [
       "129"
      ]
     },
     "execution_count": 17,
     "metadata": {},
     "output_type": "execute_result"
    }
   ],
   "source": [
    "df.at[5,'clinic_west']"
   ]
  },
  {
   "cell_type": "code",
   "execution_count": null,
   "metadata": {},
   "outputs": [],
   "source": [
    "#to access row index df.iloc\n",
    "#to access column df.columnname\n",
    "#to access by both row and column then use df.at[rowindex,columnname]"
   ]
  },
  {
   "cell_type": "code",
   "execution_count": 30,
   "metadata": {},
   "outputs": [],
   "source": [
    "p=df[(df.month =='January') & (df.clinic_south==23)]"
   ]
  },
  {
   "cell_type": "code",
   "execution_count": 31,
   "metadata": {},
   "outputs": [
    {
     "data": {
      "text/html": [
       "<div>\n",
       "<style scoped>\n",
       "    .dataframe tbody tr th:only-of-type {\n",
       "        vertical-align: middle;\n",
       "    }\n",
       "\n",
       "    .dataframe tbody tr th {\n",
       "        vertical-align: top;\n",
       "    }\n",
       "\n",
       "    .dataframe thead th {\n",
       "        text-align: right;\n",
       "    }\n",
       "</style>\n",
       "<table border=\"1\" class=\"dataframe\">\n",
       "  <thead>\n",
       "    <tr style=\"text-align: right;\">\n",
       "      <th></th>\n",
       "      <th>month</th>\n",
       "      <th>clinic_north</th>\n",
       "    </tr>\n",
       "  </thead>\n",
       "  <tbody>\n",
       "    <tr>\n",
       "      <th>0</th>\n",
       "      <td>January</td>\n",
       "      <td>100</td>\n",
       "    </tr>\n",
       "  </tbody>\n",
       "</table>\n",
       "</div>"
      ],
      "text/plain": [
       "     month  clinic_north\n",
       "0  January           100"
      ]
     },
     "execution_count": 31,
     "metadata": {},
     "output_type": "execute_result"
    }
   ],
   "source": [
    "p[['month','clinic_north']]"
   ]
  },
  {
   "cell_type": "code",
   "execution_count": 33,
   "metadata": {},
   "outputs": [
    {
     "name": "stdout",
     "output_type": "stream",
     "text": [
      "      team  rank  year  points\n",
      "0   riders     1  2014     876\n",
      "1   riders     2  2015     789\n",
      "2   devils     2  2014     863\n",
      "3   devils     3  2015     673\n",
      "4    kings     3  2014     741\n",
      "5    kings     4  2015     812\n",
      "6    kings     1  2016     756\n",
      "7    kings     1  2017     788\n",
      "8   riders     2  2016     694\n",
      "9   royals     4  2014     701\n",
      "10  royals     1  2015     804\n",
      "11  riders     2  2017     690\n"
     ]
    }
   ],
   "source": [
    "\n",
    "ipl_data={'team':['riders','riders','devils','devils','kings','kings','kings','kings','riders','royals','royals','riders'],\n",
    "          'rank':[1,2,2,3,3,4,1,1,2,4,1,2],\n",
    "          'year':[2014,2015,2014,2015,2014,2015,2016,2017,2016,2014,2015,2017],\n",
    "             'points':[876,789,863,673,741,812,756,788,694,701,804,690]}\n",
    "df=pd.DataFrame(ipl_data)\n",
    "print(df)\n",
    "#select team,rank,point from ipl_data limit 3\n",
    "#select* from ipl_data where year=2014\n",
    "#print rank and year for rider\n",
    "#select * from ipl_data where team=ridder and year=2014\n",
    "#select * from ipl_data where team riders or year=2014"
   ]
  },
  {
   "cell_type": "code",
   "execution_count": 34,
   "metadata": {},
   "outputs": [
    {
     "name": "stdout",
     "output_type": "stream",
     "text": [
      "     team  rank  year  points\n",
      "0  riders     1  2014     876\n",
      "1  riders     2  2015     789\n",
      "     team  rank  points\n",
      "0  riders     1     876\n",
      "1  riders     2     789\n",
      "2  devils     2     863\n"
     ]
    }
   ],
   "source": [
    "#select team,rank,point from ipl_data limit 3\n",
    "print(df.head(2))\n",
    "print(df[['team','rank','points']].head(3))"
   ]
  },
  {
   "cell_type": "code",
   "execution_count": 39,
   "metadata": {},
   "outputs": [
    {
     "name": "stdout",
     "output_type": "stream",
     "text": [
      "     team  rank  year  points\n",
      "0  riders     1  2014     876\n",
      "2  devils     2  2014     863\n",
      "4   kings     3  2014     741\n",
      "9  royals     4  2014     701\n"
     ]
    }
   ],
   "source": [
    "#select* from ipl_data where year=2014\n",
    "print(df[df.year==2014])"
   ]
  },
  {
   "cell_type": "code",
   "execution_count": 43,
   "metadata": {},
   "outputs": [
    {
     "name": "stdout",
     "output_type": "stream",
     "text": [
      "      team  rank  year  points\n",
      "0   riders     1  2014     876\n",
      "1   riders     2  2015     789\n",
      "8   riders     2  2016     694\n",
      "11  riders     2  2017     690\n",
      "    rank  year\n",
      "0      1  2014\n",
      "1      2  2015\n",
      "8      2  2016\n",
      "11     2  2017\n"
     ]
    }
   ],
   "source": [
    "#print rank and year for rider\n",
    "x=df[df.team =='riders']\n",
    "print(x)\n",
    "print(x[['rank','year']])"
   ]
  },
  {
   "cell_type": "code",
   "execution_count": 41,
   "metadata": {},
   "outputs": [
    {
     "name": "stdout",
     "output_type": "stream",
     "text": [
      "     team  rank  year  points\n",
      "0  riders     1  2014     876\n"
     ]
    }
   ],
   "source": [
    "#select * from ipl_data where team=ridder and year=2014\n",
    "print(df[(df.team =='riders')&(df.year ==2014)])"
   ]
  },
  {
   "cell_type": "code",
   "execution_count": 42,
   "metadata": {},
   "outputs": [
    {
     "name": "stdout",
     "output_type": "stream",
     "text": [
      "      team  rank  year  points\n",
      "0   riders     1  2014     876\n",
      "1   riders     2  2015     789\n",
      "2   devils     2  2014     863\n",
      "4    kings     3  2014     741\n",
      "8   riders     2  2016     694\n",
      "9   royals     4  2014     701\n",
      "11  riders     2  2017     690\n"
     ]
    }
   ],
   "source": [
    "#select * from ipl_data where team riders or year=2014\n",
    "print(df[(df.team =='riders')|(df.year ==2014)])"
   ]
  },
  {
   "cell_type": "code",
   "execution_count": 44,
   "metadata": {},
   "outputs": [],
   "source": [
    "#variable = lambda list of arguments : expression(only one expression)\n",
    "#it can take no of arguments but has only one expression"
   ]
  },
  {
   "cell_type": "code",
   "execution_count": 45,
   "metadata": {},
   "outputs": [
    {
     "name": "stdout",
     "output_type": "stream",
     "text": [
      "5\n"
     ]
    }
   ],
   "source": [
    "z=lambda a,b:a+b\n",
    "print(z(2,3))"
   ]
  },
  {
   "cell_type": "code",
   "execution_count": 47,
   "metadata": {},
   "outputs": [
    {
     "name": "stdout",
     "output_type": "stream",
     "text": [
      "25\n"
     ]
    }
   ],
   "source": [
    "s=lambda a:a**2\n",
    "print(s(5))"
   ]
  },
  {
   "cell_type": "code",
   "execution_count": 48,
   "metadata": {},
   "outputs": [
    {
     "name": "stdout",
     "output_type": "stream",
     "text": [
      "2020\n"
     ]
    }
   ],
   "source": [
    "m=lambda x:x*40+20\n",
    "print(m(50))"
   ]
  },
  {
   "cell_type": "code",
   "execution_count": 49,
   "metadata": {},
   "outputs": [
    {
     "data": {
      "text/plain": [
       "'INDIA'"
      ]
     },
     "execution_count": 49,
     "metadata": {},
     "output_type": "execute_result"
    }
   ],
   "source": [
    "strup = lambda s:s.upper()\n",
    "\n",
    "strup(\"india\")"
   ]
  },
  {
   "cell_type": "code",
   "execution_count": 50,
   "metadata": {},
   "outputs": [
    {
     "data": {
      "text/plain": [
       "16"
      ]
     },
     "execution_count": 50,
     "metadata": {},
     "output_type": "execute_result"
    }
   ],
   "source": [
    "strl= lambda a:len(a)\n",
    "\n",
    "strl(\"vishakhapattanam\")"
   ]
  },
  {
   "cell_type": "code",
   "execution_count": null,
   "metadata": {},
   "outputs": [],
   "source": [
    "\n"
   ]
  },
  {
   "cell_type": "code",
   "execution_count": 52,
   "metadata": {},
   "outputs": [
    {
     "name": "stdout",
     "output_type": "stream",
     "text": [
      "IT\n"
     ]
    }
   ],
   "source": [
    "mylambda = lambda x: x[0]+x[-1]\n",
    "print(mylambda('India is BEST'))\n"
   ]
  },
  {
   "cell_type": "code",
   "execution_count": 54,
   "metadata": {},
   "outputs": [
    {
     "name": "stdout",
     "output_type": "stream",
     "text": [
      "amruta\n"
     ]
    }
   ],
   "source": [
    "first = lambda s:s.split()[0]\n",
    "print(first(\"amruta chimote\"))"
   ]
  },
  {
   "cell_type": "code",
   "execution_count": 56,
   "metadata": {},
   "outputs": [
    {
     "name": "stdout",
     "output_type": "stream",
     "text": [
      "       id               name  hourly_wage  hours_worked\n",
      "0   10310      Lauren Durham           19            43\n",
      "1   18656      Grace Sellers           17            40\n",
      "2   61254  Shirley Rasmussen           16            30\n",
      "3   16886        Brian Rojas           18            47\n",
      "4   89010    Samantha Mosley           11            38\n",
      "5   87246       Louis Guzman           14            39\n",
      "6   20578     Denise Mcclure           15            40\n",
      "7   12869      James Raymond           15            32\n",
      "8   53461       Noah Collier           18            35\n",
      "9   14746    Donna Frederick           20            41\n",
      "10  71127       Shirley Beck           14            32\n",
      "11  92522    Christina Kelly            8            44\n",
      "12  22447        Brian Noble           11            39\n",
      "13  61654          Randy Key           16            38\n",
      "14  16988      Diana Stewart           14            48\n",
      "15  68619       Timothy Sosa           14            42\n",
      "16  59949      Betty Skinner           11            48\n",
      "17  81418      Janet Maxwell           12            38\n",
      "18  27267   Madison Johnston           20            37\n",
      "19  19985   Virginia Nichols           13            49\n"
     ]
    }
   ],
   "source": [
    "#Create a lambda function get_last_name which takes a string with someone’s first and last name \n",
    "#(i.e., John Smith), and returns just the last name (i.e., Smith).\n",
    "df = pd.read_csv('employees.csv')\n",
    "print(df)"
   ]
  },
  {
   "cell_type": "code",
   "execution_count": 57,
   "metadata": {},
   "outputs": [],
   "source": [
    "get_last_name = lambda x: x.split()[-1]\n",
    "get_first_name=lambda y:y.split()[0]"
   ]
  },
  {
   "cell_type": "code",
   "execution_count": 63,
   "metadata": {},
   "outputs": [
    {
     "data": {
      "text/html": [
       "<div>\n",
       "<style scoped>\n",
       "    .dataframe tbody tr th:only-of-type {\n",
       "        vertical-align: middle;\n",
       "    }\n",
       "\n",
       "    .dataframe tbody tr th {\n",
       "        vertical-align: top;\n",
       "    }\n",
       "\n",
       "    .dataframe thead th {\n",
       "        text-align: right;\n",
       "    }\n",
       "</style>\n",
       "<table border=\"1\" class=\"dataframe\">\n",
       "  <thead>\n",
       "    <tr style=\"text-align: right;\">\n",
       "      <th></th>\n",
       "      <th>id</th>\n",
       "      <th>name</th>\n",
       "      <th>hourly_wage</th>\n",
       "      <th>hours_worked</th>\n",
       "      <th>last name</th>\n",
       "      <th>first name</th>\n",
       "    </tr>\n",
       "  </thead>\n",
       "  <tbody>\n",
       "    <tr>\n",
       "      <th>0</th>\n",
       "      <td>10310</td>\n",
       "      <td>Lauren Durham</td>\n",
       "      <td>19</td>\n",
       "      <td>43</td>\n",
       "      <td>Durham</td>\n",
       "      <td>Lauren</td>\n",
       "    </tr>\n",
       "    <tr>\n",
       "      <th>1</th>\n",
       "      <td>18656</td>\n",
       "      <td>Grace Sellers</td>\n",
       "      <td>17</td>\n",
       "      <td>40</td>\n",
       "      <td>Sellers</td>\n",
       "      <td>Grace</td>\n",
       "    </tr>\n",
       "    <tr>\n",
       "      <th>2</th>\n",
       "      <td>61254</td>\n",
       "      <td>Shirley Rasmussen</td>\n",
       "      <td>16</td>\n",
       "      <td>30</td>\n",
       "      <td>Rasmussen</td>\n",
       "      <td>Shirley</td>\n",
       "    </tr>\n",
       "    <tr>\n",
       "      <th>3</th>\n",
       "      <td>16886</td>\n",
       "      <td>Brian Rojas</td>\n",
       "      <td>18</td>\n",
       "      <td>47</td>\n",
       "      <td>Rojas</td>\n",
       "      <td>Brian</td>\n",
       "    </tr>\n",
       "    <tr>\n",
       "      <th>4</th>\n",
       "      <td>89010</td>\n",
       "      <td>Samantha Mosley</td>\n",
       "      <td>11</td>\n",
       "      <td>38</td>\n",
       "      <td>Mosley</td>\n",
       "      <td>Samantha</td>\n",
       "    </tr>\n",
       "    <tr>\n",
       "      <th>5</th>\n",
       "      <td>87246</td>\n",
       "      <td>Louis Guzman</td>\n",
       "      <td>14</td>\n",
       "      <td>39</td>\n",
       "      <td>Guzman</td>\n",
       "      <td>Louis</td>\n",
       "    </tr>\n",
       "    <tr>\n",
       "      <th>6</th>\n",
       "      <td>20578</td>\n",
       "      <td>Denise Mcclure</td>\n",
       "      <td>15</td>\n",
       "      <td>40</td>\n",
       "      <td>Mcclure</td>\n",
       "      <td>Denise</td>\n",
       "    </tr>\n",
       "    <tr>\n",
       "      <th>7</th>\n",
       "      <td>12869</td>\n",
       "      <td>James Raymond</td>\n",
       "      <td>15</td>\n",
       "      <td>32</td>\n",
       "      <td>Raymond</td>\n",
       "      <td>James</td>\n",
       "    </tr>\n",
       "    <tr>\n",
       "      <th>8</th>\n",
       "      <td>53461</td>\n",
       "      <td>Noah Collier</td>\n",
       "      <td>18</td>\n",
       "      <td>35</td>\n",
       "      <td>Collier</td>\n",
       "      <td>Noah</td>\n",
       "    </tr>\n",
       "    <tr>\n",
       "      <th>9</th>\n",
       "      <td>14746</td>\n",
       "      <td>Donna Frederick</td>\n",
       "      <td>20</td>\n",
       "      <td>41</td>\n",
       "      <td>Frederick</td>\n",
       "      <td>Donna</td>\n",
       "    </tr>\n",
       "    <tr>\n",
       "      <th>10</th>\n",
       "      <td>71127</td>\n",
       "      <td>Shirley Beck</td>\n",
       "      <td>14</td>\n",
       "      <td>32</td>\n",
       "      <td>Beck</td>\n",
       "      <td>Shirley</td>\n",
       "    </tr>\n",
       "    <tr>\n",
       "      <th>11</th>\n",
       "      <td>92522</td>\n",
       "      <td>Christina Kelly</td>\n",
       "      <td>8</td>\n",
       "      <td>44</td>\n",
       "      <td>Kelly</td>\n",
       "      <td>Christina</td>\n",
       "    </tr>\n",
       "    <tr>\n",
       "      <th>12</th>\n",
       "      <td>22447</td>\n",
       "      <td>Brian Noble</td>\n",
       "      <td>11</td>\n",
       "      <td>39</td>\n",
       "      <td>Noble</td>\n",
       "      <td>Brian</td>\n",
       "    </tr>\n",
       "    <tr>\n",
       "      <th>13</th>\n",
       "      <td>61654</td>\n",
       "      <td>Randy Key</td>\n",
       "      <td>16</td>\n",
       "      <td>38</td>\n",
       "      <td>Key</td>\n",
       "      <td>Randy</td>\n",
       "    </tr>\n",
       "    <tr>\n",
       "      <th>14</th>\n",
       "      <td>16988</td>\n",
       "      <td>Diana Stewart</td>\n",
       "      <td>14</td>\n",
       "      <td>48</td>\n",
       "      <td>Stewart</td>\n",
       "      <td>Diana</td>\n",
       "    </tr>\n",
       "    <tr>\n",
       "      <th>15</th>\n",
       "      <td>68619</td>\n",
       "      <td>Timothy Sosa</td>\n",
       "      <td>14</td>\n",
       "      <td>42</td>\n",
       "      <td>Sosa</td>\n",
       "      <td>Timothy</td>\n",
       "    </tr>\n",
       "    <tr>\n",
       "      <th>16</th>\n",
       "      <td>59949</td>\n",
       "      <td>Betty Skinner</td>\n",
       "      <td>11</td>\n",
       "      <td>48</td>\n",
       "      <td>Skinner</td>\n",
       "      <td>Betty</td>\n",
       "    </tr>\n",
       "    <tr>\n",
       "      <th>17</th>\n",
       "      <td>81418</td>\n",
       "      <td>Janet Maxwell</td>\n",
       "      <td>12</td>\n",
       "      <td>38</td>\n",
       "      <td>Maxwell</td>\n",
       "      <td>Janet</td>\n",
       "    </tr>\n",
       "    <tr>\n",
       "      <th>18</th>\n",
       "      <td>27267</td>\n",
       "      <td>Madison Johnston</td>\n",
       "      <td>20</td>\n",
       "      <td>37</td>\n",
       "      <td>Johnston</td>\n",
       "      <td>Madison</td>\n",
       "    </tr>\n",
       "    <tr>\n",
       "      <th>19</th>\n",
       "      <td>19985</td>\n",
       "      <td>Virginia Nichols</td>\n",
       "      <td>13</td>\n",
       "      <td>49</td>\n",
       "      <td>Nichols</td>\n",
       "      <td>Virginia</td>\n",
       "    </tr>\n",
       "  </tbody>\n",
       "</table>\n",
       "</div>"
      ],
      "text/plain": [
       "       id               name  hourly_wage  hours_worked  last name first name\n",
       "0   10310      Lauren Durham           19            43     Durham     Lauren\n",
       "1   18656      Grace Sellers           17            40    Sellers      Grace\n",
       "2   61254  Shirley Rasmussen           16            30  Rasmussen    Shirley\n",
       "3   16886        Brian Rojas           18            47      Rojas      Brian\n",
       "4   89010    Samantha Mosley           11            38     Mosley   Samantha\n",
       "5   87246       Louis Guzman           14            39     Guzman      Louis\n",
       "6   20578     Denise Mcclure           15            40    Mcclure     Denise\n",
       "7   12869      James Raymond           15            32    Raymond      James\n",
       "8   53461       Noah Collier           18            35    Collier       Noah\n",
       "9   14746    Donna Frederick           20            41  Frederick      Donna\n",
       "10  71127       Shirley Beck           14            32       Beck    Shirley\n",
       "11  92522    Christina Kelly            8            44      Kelly  Christina\n",
       "12  22447        Brian Noble           11            39      Noble      Brian\n",
       "13  61654          Randy Key           16            38        Key      Randy\n",
       "14  16988      Diana Stewart           14            48    Stewart      Diana\n",
       "15  68619       Timothy Sosa           14            42       Sosa    Timothy\n",
       "16  59949      Betty Skinner           11            48    Skinner      Betty\n",
       "17  81418      Janet Maxwell           12            38    Maxwell      Janet\n",
       "18  27267   Madison Johnston           20            37   Johnston    Madison\n",
       "19  19985   Virginia Nichols           13            49    Nichols   Virginia"
      ]
     },
     "execution_count": 63,
     "metadata": {},
     "output_type": "execute_result"
    }
   ],
   "source": [
    "df['last name'] = df.name.apply(get_last_name)\n",
    "df\n",
    "df['first name']=df.name.apply(get_first_name)\n",
    "df"
   ]
  },
  {
   "cell_type": "code",
   "execution_count": 59,
   "metadata": {},
   "outputs": [
    {
     "data": {
      "text/html": [
       "<div>\n",
       "<style scoped>\n",
       "    .dataframe tbody tr th:only-of-type {\n",
       "        vertical-align: middle;\n",
       "    }\n",
       "\n",
       "    .dataframe tbody tr th {\n",
       "        vertical-align: top;\n",
       "    }\n",
       "\n",
       "    .dataframe thead th {\n",
       "        text-align: right;\n",
       "    }\n",
       "</style>\n",
       "<table border=\"1\" class=\"dataframe\">\n",
       "  <thead>\n",
       "    <tr style=\"text-align: right;\">\n",
       "      <th></th>\n",
       "      <th>id</th>\n",
       "      <th>hourly_wage</th>\n",
       "      <th>hours_worked</th>\n",
       "    </tr>\n",
       "  </thead>\n",
       "  <tbody>\n",
       "    <tr>\n",
       "      <th>id</th>\n",
       "      <td>1.000000</td>\n",
       "      <td>-0.571575</td>\n",
       "      <td>-0.240365</td>\n",
       "    </tr>\n",
       "    <tr>\n",
       "      <th>hourly_wage</th>\n",
       "      <td>-0.571575</td>\n",
       "      <td>1.000000</td>\n",
       "      <td>-0.192005</td>\n",
       "    </tr>\n",
       "    <tr>\n",
       "      <th>hours_worked</th>\n",
       "      <td>-0.240365</td>\n",
       "      <td>-0.192005</td>\n",
       "      <td>1.000000</td>\n",
       "    </tr>\n",
       "  </tbody>\n",
       "</table>\n",
       "</div>"
      ],
      "text/plain": [
       "                    id  hourly_wage  hours_worked\n",
       "id            1.000000    -0.571575     -0.240365\n",
       "hourly_wage  -0.571575     1.000000     -0.192005\n",
       "hours_worked -0.240365    -0.192005      1.000000"
      ]
     },
     "execution_count": 59,
     "metadata": {},
     "output_type": "execute_result"
    }
   ],
   "source": [
    "df.corr()"
   ]
  },
  {
   "cell_type": "code",
   "execution_count": 61,
   "metadata": {},
   "outputs": [
    {
     "data": {
      "text/plain": [
       "-0.19200474116230667"
      ]
     },
     "execution_count": 61,
     "metadata": {},
     "output_type": "execute_result"
    }
   ],
   "source": [
    "df.hourly_wage.corr(df.hours_worked)"
   ]
  },
  {
   "cell_type": "code",
   "execution_count": 66,
   "metadata": {},
   "outputs": [
    {
     "name": "stdout",
     "output_type": "stream",
     "text": [
      "unique entries in first name  ['Lauren' 'Grace' 'Shirley' 'Brian' 'Samantha' 'Louis' 'Denise' 'James'\n",
      " 'Noah' 'Donna' 'Christina' 'Randy' 'Diana' 'Timothy' 'Betty' 'Janet'\n",
      " 'Madison' 'Virginia']\n",
      "no of unique entries in first name  18\n"
     ]
    }
   ],
   "source": [
    "print(\"unique entries in first name \",df['first name'].unique())\n",
    "print(\"no of unique entries in first name \",df['first name'].nunique())"
   ]
  },
  {
   "cell_type": "code",
   "execution_count": null,
   "metadata": {},
   "outputs": [],
   "source": []
  }
 ],
 "metadata": {
  "kernelspec": {
   "display_name": "Python 3",
   "language": "python",
   "name": "python3"
  },
  "language_info": {
   "codemirror_mode": {
    "name": "ipython",
    "version": 3
   },
   "file_extension": ".py",
   "mimetype": "text/x-python",
   "name": "python",
   "nbconvert_exporter": "python",
   "pygments_lexer": "ipython3",
   "version": "3.7.3"
  }
 },
 "nbformat": 4,
 "nbformat_minor": 2
}
